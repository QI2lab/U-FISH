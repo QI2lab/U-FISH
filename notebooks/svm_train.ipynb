{
 "cells": [
  {
   "cell_type": "code",
   "execution_count": 1,
   "id": "ed45e087-d582-4a10-b3f4-ff31f94b3475",
   "metadata": {},
   "outputs": [],
   "source": [
    "import os\n",
    "import pandas as pd"
   ]
  },
  {
   "cell_type": "code",
   "execution_count": 3,
   "id": "be5060e5-ab6b-4bd1-aed1-a585d8d07c41",
   "metadata": {},
   "outputs": [],
   "source": [
    "img_path = '../FISH_spots/image'\n",
    "csv_path = '../FISH_spots/csv'"
   ]
  },
  {
   "cell_type": "code",
   "execution_count": 4,
   "id": "66fa763e-0a67-4ec9-b07d-e9755eda73ce",
   "metadata": {},
   "outputs": [],
   "source": [
    "list_img = os.listdir(img_path)\n",
    "list_csv = os.listdir(csv_path)"
   ]
  },
  {
   "cell_type": "code",
   "execution_count": 5,
   "id": "35d3b03b-4136-43ef-9643-87ce6949c2b4",
   "metadata": {},
   "outputs": [],
   "source": [
    "selected_img = list_img[::50]"
   ]
  },
  {
   "cell_type": "code",
   "execution_count": 6,
   "id": "75af388b-aca8-47ec-afaa-759f2834040c",
   "metadata": {},
   "outputs": [],
   "source": [
    "selected_csv = []\n",
    "for filename in selected_img:\n",
    "    base = filename.split(\".\")\n",
    "    csv = f\"{base[0]}.csv\"\n",
    "    if csv in list_csv:\n",
    "        selected_csv.append(csv)"
   ]
  },
  {
   "cell_type": "code",
   "execution_count": 7,
   "id": "70237e59-e930-46b2-9f99-cce33da4811a",
   "metadata": {},
   "outputs": [
    {
     "data": {
      "text/plain": [
       "['deepspot_188.tif',\n",
       " 'deepblink_560.tif',\n",
       " 'RCA_858.tif',\n",
       " 'simfish_254.tif',\n",
       " 'simfish_491.tif',\n",
       " 'RCA_851.tif',\n",
       " 'deepblink_83.tif',\n",
       " 'deepblink_503.tif',\n",
       " 'RCA_639.tif',\n",
       " 'RCA_461.tif',\n",
       " 'RCA_1119.tif',\n",
       " 'deepblink_401.tif',\n",
       " 'deepspot_462.tif',\n",
       " 'RCA_331.tif',\n",
       " 'RCA_680.tif',\n",
       " 'simfish_387.tif',\n",
       " 'deepblink_38.tif',\n",
       " 'deepblink_112.tif',\n",
       " 'RCA_783.tif',\n",
       " 'RCA_933.tif',\n",
       " 'deepblink_563.tif',\n",
       " 'deepblink_1.tif',\n",
       " 'deepblink_14.tif',\n",
       " 'RCA_742.tif',\n",
       " 'RCA_214.tif',\n",
       " 'simfish_207.tif',\n",
       " 'deepblink_525.tif',\n",
       " 'deepblink_201.tif',\n",
       " 'RCA_1064.tif',\n",
       " 'deepblink_200.tif',\n",
       " 'simfish_479.tif',\n",
       " 'simfish_483.tif',\n",
       " 'RCA_934.tif',\n",
       " 'deepspot_19.tif',\n",
       " 'simfish_261.tif',\n",
       " 'deepspot_297.tif',\n",
       " 'RCA_400.tif',\n",
       " 'simfish_93.tif',\n",
       " 'deepblink_541.tif',\n",
       " 'RCA_638.tif',\n",
       " 'deepblink_425.tif',\n",
       " 'deepspot_123.tif',\n",
       " 'deepspot_323.tif',\n",
       " 'deepspot_274.tif',\n",
       " 'deepspot_400.tif',\n",
       " 'deepblink_206.tif',\n",
       " 'RCA_343.tif',\n",
       " 'deepspot_136.tif',\n",
       " 'RCA_39.tif',\n",
       " 'deepblink_448.tif',\n",
       " 'RCA_1197.tif',\n",
       " 'RCA_1028.tif',\n",
       " 'deepblink_482.tif',\n",
       " 'deepblink_638.tif']"
      ]
     },
     "execution_count": 7,
     "metadata": {},
     "output_type": "execute_result"
    }
   ],
   "source": [
    "selected_img"
   ]
  },
  {
   "cell_type": "code",
   "execution_count": 8,
   "id": "02fe1f52-8b89-4a76-969f-557a98052256",
   "metadata": {},
   "outputs": [
    {
     "data": {
      "text/plain": [
       "['deepspot_188.csv',\n",
       " 'deepblink_560.csv',\n",
       " 'RCA_858.csv',\n",
       " 'simfish_254.csv',\n",
       " 'simfish_491.csv',\n",
       " 'RCA_851.csv',\n",
       " 'deepblink_83.csv',\n",
       " 'deepblink_503.csv',\n",
       " 'RCA_639.csv',\n",
       " 'RCA_461.csv',\n",
       " 'RCA_1119.csv',\n",
       " 'deepblink_401.csv',\n",
       " 'deepspot_462.csv',\n",
       " 'RCA_331.csv',\n",
       " 'RCA_680.csv',\n",
       " 'simfish_387.csv',\n",
       " 'deepblink_38.csv',\n",
       " 'deepblink_112.csv',\n",
       " 'RCA_783.csv',\n",
       " 'RCA_933.csv',\n",
       " 'deepblink_563.csv',\n",
       " 'deepblink_1.csv',\n",
       " 'deepblink_14.csv',\n",
       " 'RCA_742.csv',\n",
       " 'RCA_214.csv',\n",
       " 'simfish_207.csv',\n",
       " 'deepblink_525.csv',\n",
       " 'deepblink_201.csv',\n",
       " 'RCA_1064.csv',\n",
       " 'deepblink_200.csv',\n",
       " 'simfish_479.csv',\n",
       " 'simfish_483.csv',\n",
       " 'RCA_934.csv',\n",
       " 'deepspot_19.csv',\n",
       " 'simfish_261.csv',\n",
       " 'deepspot_297.csv',\n",
       " 'RCA_400.csv',\n",
       " 'simfish_93.csv',\n",
       " 'deepblink_541.csv',\n",
       " 'RCA_638.csv',\n",
       " 'deepblink_425.csv',\n",
       " 'deepspot_123.csv',\n",
       " 'deepspot_323.csv',\n",
       " 'deepspot_274.csv',\n",
       " 'deepspot_400.csv',\n",
       " 'deepblink_206.csv',\n",
       " 'RCA_343.csv',\n",
       " 'deepspot_136.csv',\n",
       " 'RCA_39.csv',\n",
       " 'deepblink_448.csv',\n",
       " 'RCA_1197.csv',\n",
       " 'RCA_1028.csv',\n",
       " 'deepblink_482.csv',\n",
       " 'deepblink_638.csv']"
      ]
     },
     "execution_count": 8,
     "metadata": {},
     "output_type": "execute_result"
    }
   ],
   "source": [
    "selected_csv"
   ]
  },
  {
   "cell_type": "code",
   "execution_count": 9,
   "id": "f4052398-2087-4191-bb84-6c3de5cb5ee3",
   "metadata": {},
   "outputs": [],
   "source": [
    "df = pd.DataFrame(selected_img,selected_csv)\n",
    "df.to_csv(\"./train_data.csv\")"
   ]
  },
  {
   "cell_type": "code",
   "execution_count": 10,
   "id": "f6a11852-3069-4292-9de0-c9d980f7262b",
   "metadata": {},
   "outputs": [],
   "source": [
    "data_path = \"../train_data\"\n",
    "if not os.path.exists(data_path):\n",
    "    os.makedirs(data_path)\n",
    "data_img = \"../train_data/image\"\n",
    "if not os.path.exists(data_img):\n",
    "    os.makedirs(data_img)\n",
    "data_csv = \"../train_data/csv\"  \n",
    "if not os.path.exists(data_csv):\n",
    "    os.makedirs(data_csv)"
   ]
  },
  {
   "cell_type": "code",
   "execution_count": 40,
   "id": "a04216b3-1304-45bc-91bc-0a26b7a5ef1d",
   "metadata": {},
   "outputs": [],
   "source": [
    "import shutil \n",
    "\n",
    "for img in selected_img:\n",
    "    base = img.split('.')\n",
    "    csv = f\"{base[0]}.csv\"\n",
    "    if csv in list_csv:\n",
    "        file1_path = os.path.join(img_path,img)\n",
    "        shutil.copy(file1_path,data_img)\n",
    "        file2_path = os.path.join(csv_path,csv)\n",
    "        shutil.copy(file2_path,data_csv)"
   ]
  },
  {
   "cell_type": "code",
   "execution_count": 11,
   "id": "3038739f-2e77-44a7-9ceb-722bdd75e9d5",
   "metadata": {},
   "outputs": [],
   "source": [
    "from svm_train import train"
   ]
  },
  {
   "cell_type": "code",
   "execution_count": 12,
   "id": "26f4d966-bb8d-403b-af00-1792b64d1b88",
   "metadata": {},
   "outputs": [
    {
     "name": "stdout",
     "output_type": "stream",
     "text": [
      "aftstd_accuracy: 0.940028901734104\n",
      "\n",
      "              precision    recall  f1-score   support\n",
      "\n",
      "           0       0.94      0.95      0.95     10747\n",
      "           1       0.94      0.93      0.93      8629\n",
      "\n",
      "    accuracy                           0.94     19376\n",
      "   macro avg       0.94      0.94      0.94     19376\n",
      "weighted avg       0.94      0.94      0.94     19376\n",
      "\n",
      "test number: 19376\n",
      "predict right number：18214\n"
     ]
    }
   ],
   "source": [
    "train(data_img,data_csv,5)"
   ]
  },
  {
   "cell_type": "code",
   "execution_count": null,
   "id": "7d986e27-fdef-4d38-95ff-93556effd79d",
   "metadata": {},
   "outputs": [],
   "source": []
  }
 ],
 "metadata": {
  "kernelspec": {
   "display_name": "svm",
   "language": "python",
   "name": "svm"
  },
  "language_info": {
   "codemirror_mode": {
    "name": "ipython",
    "version": 3
   },
   "file_extension": ".py",
   "mimetype": "text/x-python",
   "name": "python",
   "nbconvert_exporter": "python",
   "pygments_lexer": "ipython3",
   "version": "3.8.16"
  }
 },
 "nbformat": 4,
 "nbformat_minor": 5
}
