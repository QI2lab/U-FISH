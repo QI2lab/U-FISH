{
 "cells": [
  {
   "cell_type": "code",
   "execution_count": 1,
   "id": "ed45e087-d582-4a10-b3f4-ff31f94b3475",
   "metadata": {},
   "outputs": [],
   "source": [
    "import os\n",
    "import pandas as pd"
   ]
  },
  {
   "cell_type": "code",
   "execution_count": 2,
   "id": "be5060e5-ab6b-4bd1-aed1-a585d8d07c41",
   "metadata": {},
   "outputs": [],
   "source": [
    "img_path = '../FISH_spots/image'\n",
    "csv_path = '../FISH_spots/csv'"
   ]
  },
  {
   "cell_type": "code",
   "execution_count": 3,
   "id": "66fa763e-0a67-4ec9-b07d-e9755eda73ce",
   "metadata": {},
   "outputs": [],
   "source": [
    "list_img = os.listdir(img_path)\n",
    "list_csv = os.listdir(csv_path)"
   ]
  },
  {
   "cell_type": "code",
   "execution_count": 4,
   "id": "35d3b03b-4136-43ef-9643-87ce6949c2b4",
   "metadata": {},
   "outputs": [],
   "source": [
    "selected_img = list_img[::77]"
   ]
  },
  {
   "cell_type": "code",
   "execution_count": 5,
   "id": "75af388b-aca8-47ec-afaa-759f2834040c",
   "metadata": {},
   "outputs": [],
   "source": [
    "selected_csv = []\n",
    "for filename in selected_img:\n",
    "    base = filename.split(\".\")\n",
    "    csv = f\"{base[0]}.csv\"\n",
    "    if csv in list_csv:\n",
    "        selected_csv.append(csv)"
   ]
  },
  {
   "cell_type": "code",
   "execution_count": 6,
   "id": "70237e59-e930-46b2-9f99-cce33da4811a",
   "metadata": {},
   "outputs": [
    {
     "data": {
      "text/plain": [
       "['deepspot_188.tif',\n",
       " 'deepspot_214.tif',\n",
       " 'RCA_1215.tif',\n",
       " 'simfish_79.tif',\n",
       " 'RCA_106.tif',\n",
       " 'deepblink_59.tif',\n",
       " 'RCA_84.tif',\n",
       " 'deepblink_208.tif',\n",
       " 'deepblink_642.tif',\n",
       " 'RCA_354.tif',\n",
       " 'deepspot_65.tif',\n",
       " 'RCA_451.tif',\n",
       " 'RCA_80.tif',\n",
       " 'simfish_389.tif',\n",
       " 'deepblink_619.tif',\n",
       " 'RCA_476.tif',\n",
       " 'simfish_66.tif',\n",
       " 'simfish_409.tif',\n",
       " 'simfish_252.tif',\n",
       " 'simfish_232.tif',\n",
       " 'simfish_408.tif',\n",
       " 'RCA_374.tif',\n",
       " 'RCA_420.tif',\n",
       " 'deepblink_540.tif',\n",
       " 'deepblink_554.tif',\n",
       " 'simfish_159.tif',\n",
       " 'simfish_250.tif',\n",
       " 'simfish_457.tif',\n",
       " 'RCA_1220.tif',\n",
       " 'RCA_1050.tif',\n",
       " 'deepblink_156.tif',\n",
       " 'RCA_219.tif',\n",
       " 'RCA_410.tif',\n",
       " 'RCA_586.tif',\n",
       " 'deepblink_129.tif']"
      ]
     },
     "execution_count": 6,
     "metadata": {},
     "output_type": "execute_result"
    }
   ],
   "source": [
    "selected_img"
   ]
  },
  {
   "cell_type": "code",
   "execution_count": 7,
   "id": "02fe1f52-8b89-4a76-969f-557a98052256",
   "metadata": {},
   "outputs": [
    {
     "data": {
      "text/plain": [
       "['deepspot_188.csv',\n",
       " 'deepspot_214.csv',\n",
       " 'RCA_1215.csv',\n",
       " 'simfish_79.csv',\n",
       " 'RCA_106.csv',\n",
       " 'deepblink_59.csv',\n",
       " 'RCA_84.csv',\n",
       " 'deepblink_208.csv',\n",
       " 'deepblink_642.csv',\n",
       " 'RCA_354.csv',\n",
       " 'deepspot_65.csv',\n",
       " 'RCA_451.csv',\n",
       " 'RCA_80.csv',\n",
       " 'simfish_389.csv',\n",
       " 'deepblink_619.csv',\n",
       " 'RCA_476.csv',\n",
       " 'simfish_66.csv',\n",
       " 'simfish_409.csv',\n",
       " 'simfish_252.csv',\n",
       " 'simfish_232.csv',\n",
       " 'simfish_408.csv',\n",
       " 'RCA_374.csv',\n",
       " 'RCA_420.csv',\n",
       " 'deepblink_540.csv',\n",
       " 'deepblink_554.csv',\n",
       " 'simfish_159.csv',\n",
       " 'simfish_250.csv',\n",
       " 'simfish_457.csv',\n",
       " 'RCA_1220.csv',\n",
       " 'RCA_1050.csv',\n",
       " 'deepblink_156.csv',\n",
       " 'RCA_219.csv',\n",
       " 'RCA_410.csv',\n",
       " 'RCA_586.csv',\n",
       " 'deepblink_129.csv']"
      ]
     },
     "execution_count": 7,
     "metadata": {},
     "output_type": "execute_result"
    }
   ],
   "source": [
    "selected_csv"
   ]
  },
  {
   "cell_type": "code",
   "execution_count": 9,
   "id": "f4052398-2087-4191-bb84-6c3de5cb5ee3",
   "metadata": {},
   "outputs": [],
   "source": [
    "df = pd.DataFrame(selected_img,selected_csv)\n",
    "df.to_csv(\"./test_data.csv\")"
   ]
  },
  {
   "cell_type": "code",
   "execution_count": 2,
   "id": "f6a11852-3069-4292-9de0-c9d980f7262b",
   "metadata": {},
   "outputs": [],
   "source": [
    "data_path = \"../test_data\"\n",
    "if not os.path.exists(data_path):\n",
    "    os.makedirs(data_path)\n",
    "data_img = \"../test_data/image\"\n",
    "if not os.path.exists(data_img):\n",
    "    os.makedirs(data_img)\n",
    "data_csv = \"../test_data/csv\"  \n",
    "if not os.path.exists(data_csv):\n",
    "    os.makedirs(data_csv)"
   ]
  },
  {
   "cell_type": "code",
   "execution_count": 11,
   "id": "a04216b3-1304-45bc-91bc-0a26b7a5ef1d",
   "metadata": {},
   "outputs": [],
   "source": [
    "import shutil \n",
    "\n",
    "for img in selected_img:\n",
    "    base = img.split('.')\n",
    "    csv = f\"{base[0]}.csv\"\n",
    "    if csv in list_csv:\n",
    "        file1_path = os.path.join(img_path,img)\n",
    "        shutil.copy(file1_path,data_img)\n",
    "        file2_path = os.path.join(csv_path,csv)\n",
    "        shutil.copy(file2_path,data_csv)"
   ]
  },
  {
   "cell_type": "code",
   "execution_count": 3,
   "id": "bb42f792-6b37-4a68-accc-35678e5d1819",
   "metadata": {},
   "outputs": [],
   "source": [
    "pred_path = \"../test_data/pred_csv\"  \n",
    "if not os.path.exists(pred_path):\n",
    "    os.makedirs(pred_path)"
   ]
  },
  {
   "cell_type": "code",
   "execution_count": 4,
   "id": "b221d7fe-1faa-450a-9d1b-95a8d1621d50",
   "metadata": {},
   "outputs": [],
   "source": [
    "import pickle\n",
    "import joblib"
   ]
  },
  {
   "cell_type": "code",
   "execution_count": 5,
   "id": "9a3419fb-e05d-40a2-890c-62436000228d",
   "metadata": {},
   "outputs": [],
   "source": [
    "scaler = pickle.load(open('scaler.pkl','rb'))\n",
    "model = joblib.load('svm_model.joblib')"
   ]
  },
  {
   "cell_type": "code",
   "execution_count": 6,
   "id": "c6a1b8b2-c233-4b8e-b113-5e7a003e1775",
   "metadata": {},
   "outputs": [],
   "source": [
    "import pandas as pd\n",
    "from svm_test import test"
   ]
  },
  {
   "cell_type": "code",
   "execution_count": null,
   "id": "9bfc8c98-255f-4e1a-8e38-93d9fabcd3b1",
   "metadata": {},
   "outputs": [],
   "source": [
    "test(data_img,scaler,model,pred_path,16)"
   ]
  },
  {
   "cell_type": "code",
   "execution_count": null,
   "id": "3697074d-1ddc-4eec-b55e-bf04a4f24884",
   "metadata": {},
   "outputs": [],
   "source": [
    "list_pre = os.listdir(pred_path)\n",
    "list_pre"
   ]
  }
 ],
 "metadata": {
  "kernelspec": {
   "display_name": "svm",
   "language": "python",
   "name": "svm"
  },
  "language_info": {
   "codemirror_mode": {
    "name": "ipython",
    "version": 3
   },
   "file_extension": ".py",
   "mimetype": "text/x-python",
   "name": "python",
   "nbconvert_exporter": "python",
   "pygments_lexer": "ipython3",
   "version": "3.8.16"
  }
 },
 "nbformat": 4,
 "nbformat_minor": 5
}
