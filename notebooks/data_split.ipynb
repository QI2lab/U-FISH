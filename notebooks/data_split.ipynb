{
 "cells": [
  {
   "cell_type": "code",
   "execution_count": 6,
   "metadata": {},
   "outputs": [],
   "source": [
    "import pandas as pd\n",
    "from sklearn.model_selection import train_test_split"
   ]
  },
  {
   "cell_type": "code",
   "execution_count": 3,
   "metadata": {},
   "outputs": [],
   "source": [
    "meta_df = pd.read_csv(\"../FISH_spots/meta.csv\")"
   ]
  },
  {
   "cell_type": "code",
   "execution_count": 4,
   "metadata": {},
   "outputs": [
    {
     "data": {
      "text/html": [
       "<div>\n",
       "<style scoped>\n",
       "    .dataframe tbody tr th:only-of-type {\n",
       "        vertical-align: middle;\n",
       "    }\n",
       "\n",
       "    .dataframe tbody tr th {\n",
       "        vertical-align: top;\n",
       "    }\n",
       "\n",
       "    .dataframe thead th {\n",
       "        text-align: right;\n",
       "    }\n",
       "</style>\n",
       "<table border=\"1\" class=\"dataframe\">\n",
       "  <thead>\n",
       "    <tr style=\"text-align: right;\">\n",
       "      <th></th>\n",
       "      <th>image_path</th>\n",
       "      <th>coordinate_path</th>\n",
       "      <th>simulated</th>\n",
       "      <th>source</th>\n",
       "    </tr>\n",
       "  </thead>\n",
       "  <tbody>\n",
       "    <tr>\n",
       "      <th>0</th>\n",
       "      <td>image/RCA_1108.tif</td>\n",
       "      <td>csv/RCA_1108.csv</td>\n",
       "      <td>False</td>\n",
       "      <td>RCA</td>\n",
       "    </tr>\n",
       "    <tr>\n",
       "      <th>1</th>\n",
       "      <td>image/RCA_1109.tif</td>\n",
       "      <td>csv/RCA_1109.csv</td>\n",
       "      <td>False</td>\n",
       "      <td>RCA</td>\n",
       "    </tr>\n",
       "    <tr>\n",
       "      <th>2</th>\n",
       "      <td>image/RCA_111.tif</td>\n",
       "      <td>csv/RCA_111.csv</td>\n",
       "      <td>False</td>\n",
       "      <td>RCA</td>\n",
       "    </tr>\n",
       "    <tr>\n",
       "      <th>3</th>\n",
       "      <td>image/RCA_1110.tif</td>\n",
       "      <td>csv/RCA_1110.csv</td>\n",
       "      <td>False</td>\n",
       "      <td>RCA</td>\n",
       "    </tr>\n",
       "    <tr>\n",
       "      <th>4</th>\n",
       "      <td>image/RCA_1111.tif</td>\n",
       "      <td>csv/RCA_1111.csv</td>\n",
       "      <td>False</td>\n",
       "      <td>RCA</td>\n",
       "    </tr>\n",
       "    <tr>\n",
       "      <th>...</th>\n",
       "      <td>...</td>\n",
       "      <td>...</td>\n",
       "      <td>...</td>\n",
       "      <td>...</td>\n",
       "    </tr>\n",
       "    <tr>\n",
       "      <th>2680</th>\n",
       "      <td>image/RCA_1103.tif</td>\n",
       "      <td>csv/RCA_1103.csv</td>\n",
       "      <td>False</td>\n",
       "      <td>RCA</td>\n",
       "    </tr>\n",
       "    <tr>\n",
       "      <th>2681</th>\n",
       "      <td>image/RCA_1104.tif</td>\n",
       "      <td>csv/RCA_1104.csv</td>\n",
       "      <td>False</td>\n",
       "      <td>RCA</td>\n",
       "    </tr>\n",
       "    <tr>\n",
       "      <th>2682</th>\n",
       "      <td>image/RCA_1105.tif</td>\n",
       "      <td>csv/RCA_1105.csv</td>\n",
       "      <td>False</td>\n",
       "      <td>RCA</td>\n",
       "    </tr>\n",
       "    <tr>\n",
       "      <th>2683</th>\n",
       "      <td>image/RCA_1106.tif</td>\n",
       "      <td>csv/RCA_1106.csv</td>\n",
       "      <td>False</td>\n",
       "      <td>RCA</td>\n",
       "    </tr>\n",
       "    <tr>\n",
       "      <th>2684</th>\n",
       "      <td>image/RCA_1107.tif</td>\n",
       "      <td>csv/RCA_1107.csv</td>\n",
       "      <td>False</td>\n",
       "      <td>RCA</td>\n",
       "    </tr>\n",
       "  </tbody>\n",
       "</table>\n",
       "<p>2685 rows × 4 columns</p>\n",
       "</div>"
      ],
      "text/plain": [
       "              image_path   coordinate_path  simulated source\n",
       "0     image/RCA_1108.tif  csv/RCA_1108.csv      False    RCA\n",
       "1     image/RCA_1109.tif  csv/RCA_1109.csv      False    RCA\n",
       "2      image/RCA_111.tif   csv/RCA_111.csv      False    RCA\n",
       "3     image/RCA_1110.tif  csv/RCA_1110.csv      False    RCA\n",
       "4     image/RCA_1111.tif  csv/RCA_1111.csv      False    RCA\n",
       "...                  ...               ...        ...    ...\n",
       "2680  image/RCA_1103.tif  csv/RCA_1103.csv      False    RCA\n",
       "2681  image/RCA_1104.tif  csv/RCA_1104.csv      False    RCA\n",
       "2682  image/RCA_1105.tif  csv/RCA_1105.csv      False    RCA\n",
       "2683  image/RCA_1106.tif  csv/RCA_1106.csv      False    RCA\n",
       "2684  image/RCA_1107.tif  csv/RCA_1107.csv      False    RCA\n",
       "\n",
       "[2685 rows x 4 columns]"
      ]
     },
     "execution_count": 4,
     "metadata": {},
     "output_type": "execute_result"
    }
   ],
   "source": [
    "meta_df"
   ]
  },
  {
   "cell_type": "code",
   "execution_count": 5,
   "metadata": {},
   "outputs": [
    {
     "data": {
      "text/plain": [
       "source\n",
       "RCA          1052\n",
       "deepblink     633\n",
       "deepspot      500\n",
       "simfish       500\n",
       "Name: count, dtype: int64"
      ]
     },
     "execution_count": 5,
     "metadata": {},
     "output_type": "execute_result"
    }
   ],
   "source": [
    "meta_df['source'].value_counts()"
   ]
  },
  {
   "cell_type": "code",
   "execution_count": 7,
   "metadata": {},
   "outputs": [],
   "source": [
    "train_df, test_df = train_test_split(\n",
    "    meta_df, test_size=0.2, random_state=42)"
   ]
  },
  {
   "cell_type": "code",
   "execution_count": 8,
   "metadata": {},
   "outputs": [
    {
     "data": {
      "text/plain": [
       "(2148, 4)"
      ]
     },
     "execution_count": 8,
     "metadata": {},
     "output_type": "execute_result"
    }
   ],
   "source": [
    "train_df.shape"
   ]
  },
  {
   "cell_type": "code",
   "execution_count": 9,
   "metadata": {},
   "outputs": [
    {
     "data": {
      "text/plain": [
       "(537, 4)"
      ]
     },
     "execution_count": 9,
     "metadata": {},
     "output_type": "execute_result"
    }
   ],
   "source": [
    "test_df.shape"
   ]
  },
  {
   "cell_type": "code",
   "execution_count": 10,
   "metadata": {},
   "outputs": [
    {
     "data": {
      "text/plain": [
       "source\n",
       "RCA          215\n",
       "deepblink    129\n",
       "simfish      103\n",
       "deepspot      90\n",
       "Name: count, dtype: int64"
      ]
     },
     "execution_count": 10,
     "metadata": {},
     "output_type": "execute_result"
    }
   ],
   "source": [
    "test_df['source'].value_counts()"
   ]
  },
  {
   "cell_type": "code",
   "execution_count": 11,
   "metadata": {},
   "outputs": [],
   "source": [
    "# save to file\n",
    "train_df.to_csv(\"meta_train.csv\", index=False)\n",
    "test_df.to_csv(\"meta_test.csv\", index=False)"
   ]
  }
 ],
 "metadata": {
  "kernelspec": {
   "display_name": "cuda",
   "language": "python",
   "name": "python3"
  },
  "language_info": {
   "codemirror_mode": {
    "name": "ipython",
    "version": 3
   },
   "file_extension": ".py",
   "mimetype": "text/x-python",
   "name": "python",
   "nbconvert_exporter": "python",
   "pygments_lexer": "ipython3",
   "version": "3.10.9"
  },
  "orig_nbformat": 4
 },
 "nbformat": 4,
 "nbformat_minor": 2
}
