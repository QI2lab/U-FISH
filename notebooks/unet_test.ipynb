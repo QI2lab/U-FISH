{
 "cells": [
  {
   "cell_type": "code",
   "execution_count": 1,
   "id": "8cc34369",
   "metadata": {},
   "outputs": [],
   "source": [
    "import sys\n",
    "sys.path.insert(0, \"../\")\n",
    "import os\n",
    "import torch\n",
    "import pandas as pd\n",
    "import numpy as np\n",
    "\n",
    "from skimage.io import imread\n",
    "from skimage.feature import peak_local_max\n",
    "from spot_master.unet.f1score import compute_metrics\n",
    "from spot_master.unet.model import UNet\n",
    "import matplotlib.pyplot as plt"
   ]
  },
  {
   "cell_type": "code",
   "execution_count": 2,
   "id": "72c54552",
   "metadata": {},
   "outputs": [
    {
     "name": "stdout",
     "output_type": "stream",
     "text": [
      "data_split.ipynb  f1score_final.csv  meta_train.csv   unet_train.ipynb\r\n",
      "\u001b[0m\u001b[01;34mf1score\u001b[0m/          meta_test.csv      unet_test.ipynb\r\n"
     ]
    }
   ],
   "source": [
    "ls"
   ]
  },
  {
   "cell_type": "code",
   "execution_count": 3,
   "id": "9868fdea",
   "metadata": {},
   "outputs": [
    {
     "data": {
      "text/plain": [
       "<All keys matched successfully>"
      ]
     },
     "execution_count": 3,
     "metadata": {},
     "output_type": "execute_result"
    }
   ],
   "source": [
    "model = UNet(1,1,4)\n",
    "model.load_state_dict(torch.load('../spot_master/unet/best_unet_model_after_fine_tuning.pth', map_location=torch.device('cpu')))"
   ]
  },
  {
   "cell_type": "code",
   "execution_count": 4,
   "id": "2f537704",
   "metadata": {},
   "outputs": [],
   "source": [
    "root_dir = '../spot_master/FISH_spots/'\n",
    "meta_data = pd.read_csv('./meta_test.csv')"
   ]
  },
  {
   "cell_type": "code",
   "execution_count": 5,
   "id": "a8bbf2d5",
   "metadata": {},
   "outputs": [],
   "source": [
    "img_dir = meta_data.iloc[:, 0].tolist()\n",
    "marker_dir = meta_data.iloc[:, 1].tolist()\n",
    "predict_dir = '../spot_master/unet/predict/'"
   ]
  },
  {
   "cell_type": "code",
   "execution_count": 6,
   "id": "ebff1755",
   "metadata": {},
   "outputs": [],
   "source": [
    "def pred(im):\n",
    "    im_t = torch.tensor(im, dtype=torch.float32).unsqueeze(0).unsqueeze(0)\n",
    "    p = model(im_t)\n",
    "    return p.squeeze(0).squeeze(0).detach().numpy()\n",
    "\n",
    "def get_coordinates(image_path):\n",
    "    image = imread(image_path)\n",
    "    predict = pred(image)\n",
    "    out_1 = predict / predict.max()\n",
    "    coordinates = peak_local_max(out_1, min_distance=1, threshold_rel=0.5)\n",
    "    return coordinates"
   ]
  },
  {
   "cell_type": "code",
   "execution_count": 7,
   "id": "16ffee3d",
   "metadata": {},
   "outputs": [],
   "source": [
    "for img in img_dir:\n",
    "    coordinates = get_coordinates(os.path.join(root_dir, img))\n",
    "    coordinates_df = pd.DataFrame(coordinates)\n",
    "    basename = os.path.basename(img)\n",
    "    output_name = os.path.splitext(basename)\n",
    "    coordinates_df.to_csv(os.path.join(predict_dir, output_name[0]) + '.csv', \n",
    "                          index=False, header=['axis-0', 'axis-1'])"
   ]
  },
  {
   "cell_type": "code",
   "execution_count": 8,
   "id": "20e34cd9",
   "metadata": {},
   "outputs": [],
   "source": [
    "for file in marker_dir:\n",
    "    basename = os.path.basename(file)\n",
    "    df1 = pd.read_csv(os.path.join(predict_dir, basename))\n",
    "    df2 = pd.read_csv(os.path.join(root_dir, file))\n",
    "    np1 = df1.values\n",
    "    np2 = df2.values\n",
    "    f1score = compute_metrics(np1, np2, 3.0)\n",
    "    cols_to_save = ['cutoff', 'f1_score']\n",
    "    f1score[cols_to_save].to_csv(f'./f1score/{basename}', index=False)\n",
    "\n",
    "convert_data = {}\n",
    "for filename in os.listdir('./f1score/'):\n",
    "    input_dir = './f1score/'\n",
    "    df = pd.read_csv(os.path.join(input_dir, filename))\n",
    "    convert_data[os.path.splitext(filename)[0]] = [df[\"f1_score\"][49]] # TODO 这里取cutoff=0的最后一行\n",
    "all_dataframe = pd.DataFrame(convert_data)\n",
    "all_dataframe.to_csv(\"f1score_final.csv\", sep=',', index=0)"
   ]
  }
 ],
 "metadata": {
  "kernelspec": {
   "display_name": "Python 3 (ipykernel)",
   "language": "python",
   "name": "python3"
  },
  "language_info": {
   "codemirror_mode": {
    "name": "ipython",
    "version": 3
   },
   "file_extension": ".py",
   "mimetype": "text/x-python",
   "name": "python",
   "nbconvert_exporter": "python",
   "pygments_lexer": "ipython3",
   "version": "3.8.15"
  }
 },
 "nbformat": 4,
 "nbformat_minor": 5
}
