{
 "cells": [
  {
   "cell_type": "markdown",
   "metadata": {},
   "source": [
    "# U-FISH "
   ]
  },
  {
   "cell_type": "code",
   "execution_count": null,
   "metadata": {},
   "outputs": [],
   "source": [
    "import os\n",
    "import subprocess\n",
    "import numpy as np"
   ]
  },
  {
   "cell_type": "markdown",
   "metadata": {},
   "source": [
    "## Grid search"
   ]
  },
  {
   "cell_type": "code",
   "execution_count": null,
   "metadata": {},
   "outputs": [],
   "source": [
    "\n",
    "destination_directory = \"ufish/benchmarks/3d/UF/train/results\"\n"
   ]
  },
  {
   "cell_type": "code",
   "execution_count": null,
   "metadata": {},
   "outputs": [],
   "source": [
    "\n",
    "## Grid search intensity_threshold\n",
    "for thr in np.arange(0.01, 0.9, 0.05):  #change it.\n",
    "\n",
    "    thr_folder = os.path.join(destination_directory, f\"thr{thr}\")\n",
    "\n",
    "    if not os.path.exists(thr_folder):\n",
    "        os.makedirs(thr_folder)\n",
    "    \n",
    "    output_file = os.path.join(thr_folder, f\"UF_thr{thr}_f1.csv\")\n",
    "\n",
    "    command1 = f\"ufish predict-imgs --intensity_threshold={thr} ufish/data_3d/train/image/ {thr_folder}/\"\n",
    "\n",
    "    command2 = f\"ufish evaluate_imgs {thr_folder}/ ufish/data_3d/train/csv/ UF_thr{thr}_f1.csv\"\n",
    "\n",
    "    subprocess.run(command1, shell=True, check=True)\n",
    "    subprocess.run(command2, shell=True, check=True)\n"
   ]
  },
  {
   "cell_type": "markdown",
   "metadata": {},
   "source": [
    "## Predict"
   ]
  },
  {
   "cell_type": "code",
   "execution_count": null,
   "metadata": {},
   "outputs": [],
   "source": [
    "\n",
    "!ufish predict-imgs --intensity_threshold=0.01 ufish/data_3d/test/image/ ./results-1/"
   ]
  },
  {
   "cell_type": "markdown",
   "metadata": {},
   "source": [
    "## Evaluate"
   ]
  },
  {
   "cell_type": "code",
   "execution_count": null,
   "metadata": {},
   "outputs": [],
   "source": [
    "!ufish evaluate_imgs ./results/ ufish/data_3d/test/csv/ ./ufish_3d_test-1_f1.csv"
   ]
  }
 ],
 "metadata": {
  "kernelspec": {
   "display_name": "ufish",
   "language": "python",
   "name": "python3"
  },
  "language_info": {
   "codemirror_mode": {
    "name": "ipython",
    "version": 3
   },
   "file_extension": ".py",
   "mimetype": "text/x-python",
   "name": "python",
   "nbconvert_exporter": "python",
   "pygments_lexer": "ipython3",
   "version": "3.10.12"
  }
 },
 "nbformat": 4,
 "nbformat_minor": 2
}
